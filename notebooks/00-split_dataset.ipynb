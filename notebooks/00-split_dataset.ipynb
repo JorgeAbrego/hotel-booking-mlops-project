{
 "cells": [
  {
   "cell_type": "markdown",
   "metadata": {},
   "source": [
    "This notebook is intended to create a small dataset to simulate new customers and test all solution build in this project."
   ]
  },
  {
   "cell_type": "code",
   "execution_count": 1,
   "metadata": {},
   "outputs": [],
   "source": [
    "import pandas as pd"
   ]
  },
  {
   "cell_type": "code",
   "execution_count": 2,
   "metadata": {},
   "outputs": [],
   "source": [
    "# Original dataset from Kaggle\n",
    "df = pd.read_csv(\"../data/hotel_bookings.csv\")"
   ]
  },
  {
   "cell_type": "code",
   "execution_count": 3,
   "metadata": {},
   "outputs": [
    {
     "data": {
      "text/plain": [
       "(119390, 32)"
      ]
     },
     "execution_count": 3,
     "metadata": {},
     "output_type": "execute_result"
    }
   ],
   "source": [
    "# Dataset shape\n",
    "df.shape"
   ]
  },
  {
   "cell_type": "code",
   "execution_count": 4,
   "metadata": {},
   "outputs": [
    {
     "data": {
      "text/plain": [
       "hotel\n",
       "City Hotel      79330\n",
       "Resort Hotel    40060\n",
       "Name: hotel, dtype: int64"
      ]
     },
     "execution_count": 4,
     "metadata": {},
     "output_type": "execute_result"
    }
   ],
   "source": [
    "# Count the number of records by hotel\n",
    "df.groupby(\"hotel\")['hotel'].count()"
   ]
  },
  {
   "cell_type": "code",
   "execution_count": 5,
   "metadata": {},
   "outputs": [],
   "source": [
    "# Randomly select 200 records\n",
    "df_newcustomers = df.sample(n=10000, random_state=1)  # random_state for reproducibility"
   ]
  },
  {
   "cell_type": "code",
   "execution_count": 6,
   "metadata": {},
   "outputs": [],
   "source": [
    "# Create the dataset with the remaining 9800 records\n",
    "df_dataset = df.drop(df_newcustomers.index)"
   ]
  },
  {
   "cell_type": "code",
   "execution_count": 7,
   "metadata": {},
   "outputs": [
    {
     "data": {
      "text/plain": [
       "(hotel\n",
       " City Hotel      6563\n",
       " Resort Hotel    3437\n",
       " Name: hotel, dtype: int64,\n",
       " hotel\n",
       " City Hotel      72767\n",
       " Resort Hotel    36623\n",
       " Name: hotel, dtype: int64)"
      ]
     },
     "execution_count": 7,
     "metadata": {},
     "output_type": "execute_result"
    }
   ],
   "source": [
    "df_newcustomers.groupby(\"hotel\")['hotel'].count(), df_dataset.groupby(\"hotel\")['hotel'].count()"
   ]
  },
  {
   "cell_type": "code",
   "execution_count": 8,
   "metadata": {},
   "outputs": [],
   "source": [
    "# Save the new datasets to CSV files\n",
    "df_newcustomers.to_csv('../data/new_customers.csv', index=False)\n",
    "df_dataset.to_csv('../data/hotel_booking_dataset.csv', index=False)"
   ]
  },
  {
   "cell_type": "code",
   "execution_count": 9,
   "metadata": {},
   "outputs": [
    {
     "name": "stdout",
     "output_type": "stream",
     "text": [
      "Original dataset: 119390 records\n",
      "Sample dataset: 10000 records\n",
      "Remaining dataset: 109390 records\n"
     ]
    }
   ],
   "source": [
    "# Print a summary of the created datasets\n",
    "print(f'Original dataset: {df.shape[0]} records')\n",
    "print(f'Sample dataset: {df_newcustomers.shape[0]} records')\n",
    "print(f'Remaining dataset: {df_dataset.shape[0]} records')"
   ]
  },
  {
   "cell_type": "code",
   "execution_count": null,
   "metadata": {},
   "outputs": [],
   "source": []
  }
 ],
 "metadata": {
  "kernelspec": {
   "display_name": "mlops",
   "language": "python",
   "name": "python3"
  },
  "language_info": {
   "codemirror_mode": {
    "name": "ipython",
    "version": 3
   },
   "file_extension": ".py",
   "mimetype": "text/x-python",
   "name": "python",
   "nbconvert_exporter": "python",
   "pygments_lexer": "ipython3",
   "version": "3.10.14"
  }
 },
 "nbformat": 4,
 "nbformat_minor": 2
}
