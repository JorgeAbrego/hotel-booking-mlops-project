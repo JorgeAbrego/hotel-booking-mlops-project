{
 "cells": [
  {
   "cell_type": "markdown",
   "metadata": {},
   "source": [
    "# Training Models "
   ]
  },
  {
   "cell_type": "markdown",
   "metadata": {},
   "source": [
    "### Load libraries"
   ]
  },
  {
   "cell_type": "code",
   "execution_count": 1,
   "metadata": {},
   "outputs": [],
   "source": [
    "import pandas as pd\n",
    "import numpy as np\n",
    "from sklearn.preprocessing import StandardScaler, OneHotEncoder, Binarizer\n",
    "from sklearn.compose import ColumnTransformer\n",
    "from sklearn.pipeline import Pipeline\n",
    "from sklearn.model_selection import train_test_split\n",
    "from sklearn.preprocessing import StandardScaler\n",
    "from sklearn.linear_model import LogisticRegression\n",
    "from sklearn.tree import DecisionTreeClassifier\n",
    "from sklearn.ensemble import RandomForestClassifier, GradientBoostingClassifier\n",
    "from sklearn.svm import SVC\n",
    "from sklearn.metrics import confusion_matrix, ConfusionMatrixDisplay\n",
    "import matplotlib.pyplot as plt\n",
    "import mlflow\n",
    "import mlflow.sklearn\n",
    "from mlflow.models import infer_signature\n",
    "import joblib\n",
    "import warnings\n",
    "from datetime import datetime\n",
    "warnings.filterwarnings(\"ignore\")"
   ]
  },
  {
   "cell_type": "markdown",
   "metadata": {},
   "source": [
    "## Load dataset"
   ]
  },
  {
   "cell_type": "code",
   "execution_count": 2,
   "metadata": {},
   "outputs": [],
   "source": [
    "base_df = pd.read_csv('../data/hotel_booking_dataset.csv')"
   ]
  },
  {
   "cell_type": "code",
   "execution_count": 3,
   "metadata": {},
   "outputs": [
    {
     "data": {
      "text/plain": [
       "(109390, 32)"
      ]
     },
     "execution_count": 3,
     "metadata": {},
     "output_type": "execute_result"
    }
   ],
   "source": [
    "base_df.shape"
   ]
  },
  {
   "cell_type": "markdown",
   "metadata": {},
   "source": [
    "## Preprocessing dataset"
   ]
  },
  {
   "cell_type": "code",
   "execution_count": 4,
   "metadata": {},
   "outputs": [],
   "source": [
    "# Defining categorical, numerical and binary columns\n",
    "cat_cols = ['hotel','meal', 'market_segment','distribution_channel',\n",
    "            'reserved_room_type','deposit_type','customer_type']\n",
    "\n",
    "num_cols = ['lead_time','days_in_waiting_list',\n",
    "            'adr','total_stay','total_people']\n",
    "\n",
    "bin_cols = ['is_repeated_guest','previous_cancellations',\n",
    "            'previous_bookings_not_canceled','booking_changes',\n",
    "            'agent','company','required_car_parking_spaces',\n",
    "            'total_of_special_requests']"
   ]
  },
  {
   "cell_type": "code",
   "execution_count": 5,
   "metadata": {},
   "outputs": [],
   "source": [
    "# Checking for duplicates and null values and creating new columns\n",
    "dataset =(base_df\n",
    " .drop_duplicates()\n",
    " .fillna(0)\n",
    " .assign(total_stay=lambda df: df['stays_in_weekend_nights'] + df['stays_in_week_nights'],\n",
    "         total_people=lambda df: df['adults'] + df['children'] + df['babies'],\n",
    "        )\n",
    " [cat_cols + num_cols + bin_cols + ['is_canceled']]\n",
    " .assign(total_people=lambda df: df['total_people'].astype('int64'),\n",
    "         agent=lambda df: df['agent'].astype('int64'),\n",
    "         company=lambda df: df['company'].astype('int64'),\n",
    "        )\n",
    ")"
   ]
  },
  {
   "cell_type": "code",
   "execution_count": 6,
   "metadata": {},
   "outputs": [],
   "source": [
    "dataset.to_csv(\"../data/hotel_bookings_reference.csv\", index=False)"
   ]
  },
  {
   "cell_type": "code",
   "execution_count": 7,
   "metadata": {},
   "outputs": [
    {
     "data": {
      "text/plain": [
       "['./artifacts/preprocessor_model.pkl']"
      ]
     },
     "execution_count": 7,
     "metadata": {},
     "output_type": "execute_result"
    }
   ],
   "source": [
    "# Define the preprocessing steps\n",
    "categorical_transformer = Pipeline(steps=[\n",
    "    ('onehot', OneHotEncoder(handle_unknown='ignore', sparse_output=False))\n",
    "])\n",
    "\n",
    "numerical_transformer = Pipeline(steps=[\n",
    "    ('scaler', StandardScaler())\n",
    "])\n",
    "\n",
    "binary_transformer = Pipeline(steps=[\n",
    "    ('binarizer', Binarizer())\n",
    "])\n",
    "\n",
    "preprocessor = ColumnTransformer(\n",
    "    transformers=[\n",
    "        ('cat', categorical_transformer, cat_cols),\n",
    "        ('num', numerical_transformer, num_cols),\n",
    "        ('bin', binary_transformer, bin_cols)\n",
    "    ]).set_output(transform=\"pandas\")\n",
    "\n",
    "processed_data = preprocessor.fit_transform(dataset)\n",
    "\n",
    "preprocessor_file = \"./artifacts/preprocessor_model.pkl\"\n",
    "joblib.dump(preprocessor, preprocessor_file)"
   ]
  },
  {
   "cell_type": "code",
   "execution_count": 8,
   "metadata": {},
   "outputs": [],
   "source": [
    "X = processed_data\n",
    "y = dataset['is_canceled']"
   ]
  },
  {
   "cell_type": "markdown",
   "metadata": {},
   "source": [
    "## Training Models"
   ]
  },
  {
   "cell_type": "code",
   "execution_count": 9,
   "metadata": {},
   "outputs": [],
   "source": [
    "# Establecer la URL del servidor remoto de MLflow\n",
    "mlflow.set_tracking_uri(\"http://localhost:5000\")"
   ]
  },
  {
   "cell_type": "code",
   "execution_count": 10,
   "metadata": {},
   "outputs": [
    {
     "name": "stderr",
     "output_type": "stream",
     "text": [
      "2024/07/13 23:04:02 INFO mlflow.tracking.fluent: Experiment with name 'hotel_cancellation_prediction' does not exist. Creating a new experiment.\n"
     ]
    },
    {
     "data": {
      "text/plain": [
       "<Experiment: artifact_location='mlflow-artifacts:/1', creation_time=1720926242775, experiment_id='1', last_update_time=1720926242775, lifecycle_stage='active', name='hotel_cancellation_prediction', tags={}>"
      ]
     },
     "execution_count": 10,
     "metadata": {},
     "output_type": "execute_result"
    }
   ],
   "source": [
    "# Configurar el experimento en MLflow\n",
    "mlflow.set_experiment(\"hotel_cancellation_prediction\")"
   ]
  },
  {
   "cell_type": "code",
   "execution_count": 11,
   "metadata": {},
   "outputs": [
    {
     "name": "stderr",
     "output_type": "stream",
     "text": [
      "2024/07/13 23:04:03 WARNING mlflow.utils.autologging_utils: You are using an unsupported version of sklearn. If you encounter errors during autologging, try upgrading / downgrading sklearn to a supported version, or try upgrading MLflow.\n"
     ]
    }
   ],
   "source": [
    "# Configurar MLflow para el autolog\n",
    "mlflow.sklearn.autolog()"
   ]
  },
  {
   "cell_type": "code",
   "execution_count": 12,
   "metadata": {},
   "outputs": [],
   "source": [
    "# Dividir el dataset en conjunto de entrenamiento y prueba\n",
    "X_train, X_test, y_train, y_test = train_test_split(X, y, test_size=0.3, random_state=42)"
   ]
  },
  {
   "cell_type": "code",
   "execution_count": 13,
   "metadata": {},
   "outputs": [],
   "source": [
    "# Guardar los datasets de entrenamiento y prueba en archivos CSV\n",
    "train_data = pd.DataFrame(X_train, columns=X.columns)\n",
    "train_data['is_canceled'] = y_train.reset_index(drop=True)\n",
    "train_data.to_csv('./artifacts/train_data.csv', index=False)\n",
    "\n",
    "test_data = pd.DataFrame(X_test, columns=X.columns)\n",
    "test_data['is_canceled'] = y_test.reset_index(drop=True)\n",
    "test_data.to_csv('./artifacts/test_data.csv', index=False)"
   ]
  },
  {
   "cell_type": "code",
   "execution_count": 14,
   "metadata": {},
   "outputs": [],
   "source": [
    "# Definir los modelos\n",
    "models = {\n",
    "    \"Logistic Regression\": LogisticRegression(),\n",
    "    \"Decision Tree\": DecisionTreeClassifier(),\n",
    "    \"Random Forest\": RandomForestClassifier(),\n",
    "    \"Gradient Boosting\": GradientBoostingClassifier(),\n",
    "}"
   ]
  },
  {
   "cell_type": "code",
   "execution_count": 15,
   "metadata": {},
   "outputs": [
    {
     "name": "stderr",
     "output_type": "stream",
     "text": [
      "2024/07/13 23:04:20 WARNING mlflow.models.model: Logging model metadata to the tracking server has failed. The model artifacts have been logged successfully under mlflow-artifacts:/1/d416b58a1f39460386dec9aac49228e2/artifacts. Set logging level to DEBUG via `logging.getLogger(\"mlflow\").setLevel(logging.DEBUG)` to see the full traceback.\n",
      "Successfully registered model 'sk-learn-logistic-regression-reg-model'.\n",
      "2024/07/13 23:04:21 INFO mlflow.store.model_registry.abstract_store: Waiting up to 300 seconds for model version to finish creation. Model name: sk-learn-logistic-regression-reg-model, version 1\n",
      "Created version '1' of model 'sk-learn-logistic-regression-reg-model'.\n"
     ]
    },
    {
     "name": "stdout",
     "output_type": "stream",
     "text": [
      "Active run_id: d416b58a1f39460386dec9aac49228e2\n"
     ]
    },
    {
     "name": "stderr",
     "output_type": "stream",
     "text": [
      "2024/07/13 23:04:32 WARNING mlflow.models.model: Logging model metadata to the tracking server has failed. The model artifacts have been logged successfully under mlflow-artifacts:/1/1eaa705caf4b473fa1f68abe1ea60244/artifacts. Set logging level to DEBUG via `logging.getLogger(\"mlflow\").setLevel(logging.DEBUG)` to see the full traceback.\n",
      "Successfully registered model 'sk-learn-decision-tree-reg-model'.\n",
      "2024/07/13 23:04:32 INFO mlflow.store.model_registry.abstract_store: Waiting up to 300 seconds for model version to finish creation. Model name: sk-learn-decision-tree-reg-model, version 1\n",
      "Created version '1' of model 'sk-learn-decision-tree-reg-model'.\n"
     ]
    },
    {
     "name": "stdout",
     "output_type": "stream",
     "text": [
      "Active run_id: 1eaa705caf4b473fa1f68abe1ea60244\n"
     ]
    },
    {
     "name": "stderr",
     "output_type": "stream",
     "text": [
      "2024/07/13 23:05:02 WARNING mlflow.models.model: Logging model metadata to the tracking server has failed. The model artifacts have been logged successfully under mlflow-artifacts:/1/21a3bee7174340d1930188d2e53d2029/artifacts. Set logging level to DEBUG via `logging.getLogger(\"mlflow\").setLevel(logging.DEBUG)` to see the full traceback.\n",
      "Successfully registered model 'sk-learn-random-forest-reg-model'.\n",
      "2024/07/13 23:05:02 INFO mlflow.store.model_registry.abstract_store: Waiting up to 300 seconds for model version to finish creation. Model name: sk-learn-random-forest-reg-model, version 1\n",
      "Created version '1' of model 'sk-learn-random-forest-reg-model'.\n"
     ]
    },
    {
     "name": "stdout",
     "output_type": "stream",
     "text": [
      "Active run_id: 21a3bee7174340d1930188d2e53d2029\n"
     ]
    },
    {
     "name": "stderr",
     "output_type": "stream",
     "text": [
      "2024/07/13 23:05:24 WARNING mlflow.models.model: Logging model metadata to the tracking server has failed. The model artifacts have been logged successfully under mlflow-artifacts:/1/8146f9a904494ee7a0e52ee659692e93/artifacts. Set logging level to DEBUG via `logging.getLogger(\"mlflow\").setLevel(logging.DEBUG)` to see the full traceback.\n",
      "Successfully registered model 'sk-learn-gradient-boosting-reg-model'.\n",
      "2024/07/13 23:05:24 INFO mlflow.store.model_registry.abstract_store: Waiting up to 300 seconds for model version to finish creation. Model name: sk-learn-gradient-boosting-reg-model, version 1\n"
     ]
    },
    {
     "name": "stdout",
     "output_type": "stream",
     "text": [
      "Active run_id: 8146f9a904494ee7a0e52ee659692e93\n",
      "Training and evaluation finished.\n"
     ]
    },
    {
     "name": "stderr",
     "output_type": "stream",
     "text": [
      "Created version '1' of model 'sk-learn-gradient-boosting-reg-model'.\n"
     ]
    }
   ],
   "source": [
    "# Entrenar y evaluar los modelos\n",
    "for name, model in models.items():\n",
    "    with mlflow.start_run(run_name=f\"{name} [{(datetime.now().strftime('%Y%m%d-%H%M%S'))}]\"):\n",
    "        # Registrar el escalador y los datasets de entrenamiento y prueba\n",
    "        mlflow.log_artifact(preprocessor_file, artifact_path='preprocessing')\n",
    "        mlflow.log_artifact('./artifacts/train_data.csv', artifact_path='train_data')\n",
    "        mlflow.log_artifact('./artifacts/test_data.csv', artifact_path='test_data')\n",
    "        \n",
    "        model.fit(X_train, y_train)\n",
    "        y_pred = model.predict(X_test)\n",
    "        signature = infer_signature(X_test, y_pred)\n",
    "        \n",
    "        # Generar la matriz de confusión\n",
    "        cm = confusion_matrix(y_test, y_pred)\n",
    "        \n",
    "        # Registrar la matriz de confusión como una imagen en MLflow\n",
    "        disp = ConfusionMatrixDisplay(confusion_matrix=cm)\n",
    "        disp.plot()\n",
    "        plt.title(f'Matriz de Confusión - {name}')\n",
    "        plt.savefig(f'./artifacts/confusion_matrix_{name}.png')\n",
    "        mlflow.log_artifact(f'./artifacts/confusion_matrix_{name}.png')\n",
    "        plt.close()\n",
    "        \n",
    "        # Registrar la importancia de características si está disponible\n",
    "        if hasattr(model, 'feature_importances_'):\n",
    "            feature_importances = model.feature_importances_\n",
    "            importance_df = pd.DataFrame({\n",
    "                'Feature': X.columns,\n",
    "                'Importance': feature_importances\n",
    "            }).sort_values(by='Importance', ascending=False)\n",
    "            importance_df.to_csv(f'./artifacts/feature_importances_{name}.csv', index=False)\n",
    "            mlflow.log_artifact(f'./artifacts/feature_importances_{name}.csv')\n",
    "        elif hasattr(model, 'coef_'):\n",
    "            feature_importances = np.abs(model.coef_[0])\n",
    "            importance_df = pd.DataFrame({\n",
    "                'Feature': X.columns,\n",
    "                'Importance': feature_importances\n",
    "            }).sort_values(by='Importance', ascending=False)\n",
    "            importance_df.to_csv(f'./artifacts/feature_importances_{name}.csv', index=False)\n",
    "            mlflow.log_artifact(f'./artifacts/feature_importances_{name}.csv')\n",
    "\n",
    "        # Log the sklearn model and register as version 1\n",
    "        mlflow.sklearn.log_model(\n",
    "            sk_model=model,\n",
    "            artifact_path=\"model\",\n",
    "            signature=signature,\n",
    "            registered_model_name=f\"sk-learn-{(name.lower().replace(' ', '-'))}-reg-model\",\n",
    "        )\n",
    "        \n",
    "        run = mlflow.active_run()\n",
    "        print(\"Active run_id: {}\".format(run.info.run_id))\n",
    "        \n",
    "    mlflow.end_run()\n",
    "        \n",
    "print(\"Training and evaluation finished.\")"
   ]
  },
  {
   "cell_type": "markdown",
   "metadata": {},
   "source": [
    "## Manage Models"
   ]
  },
  {
   "cell_type": "code",
   "execution_count": 16,
   "metadata": {},
   "outputs": [],
   "source": [
    "from mlflow.tracking import MlflowClient"
   ]
  },
  {
   "cell_type": "code",
   "execution_count": 17,
   "metadata": {},
   "outputs": [
    {
     "data": {
      "text/plain": [
       "[<Experiment: artifact_location='mlflow-artifacts:/1', creation_time=1720926242775, experiment_id='1', last_update_time=1720926242775, lifecycle_stage='active', name='hotel_cancellation_prediction', tags={}>,\n",
       " <Experiment: artifact_location='mlflow-artifacts:/0', creation_time=1720926184689, experiment_id='0', last_update_time=1720926184689, lifecycle_stage='active', name='Default', tags={}>]"
      ]
     },
     "execution_count": 17,
     "metadata": {},
     "output_type": "execute_result"
    }
   ],
   "source": [
    "client = MlflowClient(tracking_uri='http://localhost:5000')\n",
    "\n",
    "client.search_experiments()"
   ]
  },
  {
   "cell_type": "code",
   "execution_count": 19,
   "metadata": {},
   "outputs": [],
   "source": [
    "for name, model in models.items():\n",
    "    model_name = f\"sk-learn-{(name.lower().replace(' ', '-'))}-reg-model\"\n",
    "    x=client.get_registered_model(model_name)\n",
    "    client.set_registered_model_alias(model_name, \"challenger\", x.latest_versions[0].version)"
   ]
  },
  {
   "cell_type": "code",
   "execution_count": 21,
   "metadata": {},
   "outputs": [],
   "source": [
    "model_name = \"sk-learn-decision-tree-reg-model\"\n",
    "x=client.get_registered_model(model_name)\n",
    "client.delete_registered_model_alias(model_name, \"challenger\")\n",
    "client.set_registered_model_alias(model_name, \"champion\", x.latest_versions[0].version)"
   ]
  },
  {
   "cell_type": "code",
   "execution_count": null,
   "metadata": {},
   "outputs": [],
   "source": []
  }
 ],
 "metadata": {
  "kernelspec": {
   "display_name": "mlops",
   "language": "python",
   "name": "python3"
  },
  "language_info": {
   "codemirror_mode": {
    "name": "ipython",
    "version": 3
   },
   "file_extension": ".py",
   "mimetype": "text/x-python",
   "name": "python",
   "nbconvert_exporter": "python",
   "pygments_lexer": "ipython3",
   "version": "3.10.14"
  }
 },
 "nbformat": 4,
 "nbformat_minor": 2
}
